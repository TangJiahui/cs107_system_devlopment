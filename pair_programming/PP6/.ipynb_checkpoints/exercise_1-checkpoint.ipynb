{
 "cells": [
  {
   "cell_type": "code",
   "execution_count": null,
   "metadata": {
    "cell_id": "00000-120ee6ab-1531-4db0-a609-67ced4d7cb21",
    "tags": []
   },
   "outputs": [],
   "source": [
    "# Insert code here.\n"
   ]
  },
  {
   "cell_type": "markdown",
   "metadata": {
    "cell_id": "00001-9055b4ec-9ad2-46c8-8387-fb2c96c2a468",
    "tags": []
   },
   "source": [
    "Pair Programming Week 6\n",
    "\n",
    "Coder: Jiahui Tang\n",
    "\n",
    "Listener: Zeyuan Hu\n",
    "\n",
    "Sharer: Krithika Sundararajan\n",
    "\n",
    "**Question 1**\n",
    "\n",
    "| trace   | elem op.    | value | elem der.           | $\\nabla_{x}$| $\\nabla_{y}$ |\n",
    "| :---:   | :------:    | :---: | :-------:           | :---------: | :----------: |\n",
    "| $x$ | $x$ | $\\pi/2$   | $\\dot{x}$ | $1$         | $0$          |\n",
    "| $y$ | $y$ | $\\pi/3$   | $\\dot{y}$ | $0$         | $1$          |\n",
    "| $v_{1}$ | $sin(x)$ | $1$   | $cos(x)*\\dot{x}$ | $0 $         | $0$          |\n",
    "| $v_{2}$ | $cos(y)$ | $0.5$   | $-sin(y)*\\dot{y}$ | $0$         | $-\\sqrt(3)/2$          |\n",
    "| $v_{3}$ | $v_1-v_2$ | $0.5$   | $\\dot{v_1}-\\dot{v_2}$ | $0$         | $\\sqrt(3)/2$          |\n",
    "| $v_{4}$ | $(v_3)^2$ | $0.25$   | $2*v_3*\\dot{v_3}$ | $0$         | $\\sqrt(3)/2$          |\n",
    "| $v_{5}$ | $-v_4$ | $-0.25$   | $-\\dot{v_4}$ | $0$         | $-\\sqrt(3)/2$          |\n",
    "| $v_{6}$ | $exp(v_5)$ | $0.7788$   | $exp(v_5)*\\dot{v_5}$ | $0$         | $-0.674$          |"
   ]
  },
  {
   "cell_type": "markdown",
   "metadata": {
    "cell_id": "00002-55cf6894-b1bb-402b-8ee4-a8536d034bd8",
    "tags": []
   },
   "source": [
    "<img src=\"comp_graph.png\">"
   ]
  },
  {
   "cell_type": "markdown",
   "metadata": {
    "cell_id": "00004-dbcb775c-90ff-4c7e-88f3-d0504b26a48d",
    "tags": []
   },
   "source": []
  }
 ],
 "metadata": {
  "deepnote_execution_queue": [],
  "deepnote_notebook_id": "88b127fb-b52c-4391-b682-ba1ffa847bb1",
  "kernelspec": {
   "display_name": "Python 3",
   "language": "python",
   "name": "python3"
  },
  "language_info": {
   "codemirror_mode": {
    "name": "ipython",
    "version": 3
   },
   "file_extension": ".py",
   "mimetype": "text/x-python",
   "name": "python",
   "nbconvert_exporter": "python",
   "pygments_lexer": "ipython3",
   "version": "3.8.3"
  }
 },
 "nbformat": 4,
 "nbformat_minor": 2
}
