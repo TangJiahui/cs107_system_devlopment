{
 "cells": [
  {
   "cell_type": "code",
   "execution_count": null,
   "metadata": {
    "cell_id": "00000-869c3639-c446-4896-abf4-0267654a5ed1",
    "tags": []
   },
   "outputs": [],
   "source": [
    "# Insert code here.\n"
   ]
  },
  {
   "cell_type": "markdown",
   "metadata": {
    "cell_id": "00001-a85359c2-8f9a-48c1-b342-b4195217d68f",
    "tags": []
   },
   "source": [
    "Pair Programming Week 6\n",
    "\n",
    "Coder: Jiahui Tang\n",
    "\n",
    "Listener: Zeyuan Hu\n",
    "\n",
    "Sharer: Krithika Sundararajan\n",
    "\n",
    "**Question 2**\n",
    "$$\n",
    "  f\\left(x,y\\right) = \n",
    "  \\begin{bmatrix}\n",
    "    x^{2} + y^{2} \\\\\n",
    "    \\exp\\left(x+y\\right)\n",
    "  \\end{bmatrix}.\n",
    "$$\n",
    "\n",
    "\n",
    "\n",
    "| trace   | elem op.    | value | elem der.           | $\\nabla_{x}$| $\\nabla_{y}$ |\n",
    "| :---:   | :------:    | :---: | :-------:           | :---------: | :----------: |\n",
    "| $x$ | $x$ | $1$   | $\\dot{x}$ | $1$         | $0$          |\n",
    "| $y$ | $y$ | $1$   | $\\dot{y}$ | $0$         | $1$          |\n",
    "| $v_{1}$ | $x^{2}$ | $1$   | $2x*\\dot{x}$ | $2 $         | $0$          |\n",
    "| $v_{2}$ | $y^{2}$ | $1$   | $2y*\\dot{y}$ | $0$         | $2$          |\n",
    "| $v_{3}$ | $x+y$ | $2$   | $\\dot{x}+\\dot{y}$ | $1$         | $1$          |\n",
    "| $v_{4}$ | $v_1 + v_2$ | $2$   | $\\dot{v_1}+\\dot{v_2}$ | $2$         | $2$          |\n",
    "| $v_{5}$ | $exp(v_4)$ | $exp(2)$   | $exp(v_4)*\\dot{v_4}$ | $exp(2)$         | $exp(2)$          |\n",
    "\n",
    "\n",
    "\n",
    "$$\n",
    "  J = \n",
    "  \\begin{bmatrix}\n",
    "    \\partial f_{1} / \\partial x & \\partial f_{1} / \\partial y \\\\\n",
    "    \\partial f_{2} / \\partial x & \\partial f_{2} / \\partial y\n",
    "  \\end{bmatrix}\n",
    "  =\n",
    "   \\begin{bmatrix}\n",
    "    \\partial v_{4} / \\partial x & \\partial v_{4} / \\partial y \\\\\n",
    "    \\partial v_{5} / \\partial x & \\partial v_{5} / \\partial y\n",
    "  \\end{bmatrix}\n",
    "  =\n",
    "  \\begin{bmatrix}\n",
    "    2 & 2 \\\\\n",
    "    exp(2) & exp(2)\n",
    "  \\end{bmatrix}\n",
    "$$\n",
    "\n"
   ]
  },
  {
   "cell_type": "markdown",
   "metadata": {
    "cell_id": "00004-2ca5d849-d65b-4dbc-a719-9b23149fbc85",
    "tags": []
   },
   "source": []
  }
 ],
 "metadata": {
  "deepnote_execution_queue": [],
  "deepnote_notebook_id": "f218ed0e-6582-4dcc-910c-7aceb6360ed7",
  "kernelspec": {
   "display_name": "Python 3",
   "language": "python",
   "name": "python3"
  },
  "language_info": {
   "codemirror_mode": {
    "name": "ipython",
    "version": 3
   },
   "file_extension": ".py",
   "mimetype": "text/x-python",
   "name": "python",
   "nbconvert_exporter": "python",
   "pygments_lexer": "ipython3",
   "version": "3.8.3"
  }
 },
 "nbformat": 4,
 "nbformat_minor": 2
}
