{
 "cells": [
  {
   "cell_type": "markdown",
   "metadata": {},
   "source": [
    "**Exercise 1 Part C**\n",
    "\n",
    "| trace | elementary function | current function value       | elementary function derivative        | $\\nabla_{x}$ | $\\nabla_{y}$ |\n",
    "| :---: | :---:      | :---------: |   :---:            |:---:         |:---:        |\n",
    "| $x_1$ | $x_1$      | $x$         | $\\dot{x_1}$        | $1$          | $0$          |\n",
    "| $x_2$ | $x_2$      | $y$         | $\\dot{x_2}$        | $0$         | $1$          |\n",
    "| $x_3$ | $w_{11}x_1$    | $w_{11}x$         | $w_{11}\\dot{x_1}$    | $w_{11}$          | $0$          |\n",
    "| $x_4$ | $w_{21}x_1$    | $w_{21}x$         | $w_{21}\\dot{x_1}$    | $w_{21}$         | $0$          |\n",
    "| $x_5$ | $w_{12}x_2$| $w_{12}y$         | $w_{12}\\dot{x_2}$| $0$     | $w_{12}$          |\n",
    "| $x_6$ | $w_{22}x_2$| $w_{22}y$         | $w_{22}\\dot{x_2}$ | $0$    | $w_{22}$          |\n",
    "| $x_7$ | $x_3+x_5$  | $w_{11}x+w_{12}y$     | $\\dot{x_3}+\\dot{x_5}$       | $w_{11}$   | $w_{12}$  |\n",
    "| $x_8$ | $x_4+x_6$  | $w_{21}x+w_{22}y$   | $\\dot{v_4}+\\dot{v_6}$       | $w_{21}$   | $w_{22}$  |\n",
    "| $x_9$ | $z(x_7)$      | $z(w_{11}x+w_{12}y)$         | $\\dot{x_7}z'(x_7)$        | $w_{11}z'(w_{11}x+w_{12}y)$        | $w_{12}z'(w_{11}x+w_{12}y)$         |\n",
    "| $x_{10}$ | $z(x_8)$      | $z(w_{21}x+w_{22}y)$         | $\\dot{x_8}z'(x_8)$        | $w_{21}z'(w_{21}x+w_{22}y)$        |$w_{22}z'(w_{21}x+w_{22}y)$        |\n",
    "| $x_{11}$ | $w_{1,out}x_9$    | $w_{1,out}z(w_{11}x+w_{12}y)$         | $w_{1,out}\\dot{x_9}$    | $w_{1,out}w_{11}z'(w_{11}x+w_{12}y)$          | $w_{1,out}w_{12}z'(w_{11}x+w_{12}y)$          |\n",
    "| $x_{12}$ | $w_{2,out}x_{10}$    | $w_{2,out}z(w_{21}x+w_{22}y)$         | $w_{2,out}\\dot{x_{10}}$    | $w_{2,out}w_{21}z'(w_{21}x+w_{22}y)$         | $w_{2,out}w_{22}z'(w_{21}x+w_{22}y)$          |\n",
    "| $f$ | $x_{11}+x_{12}$| $w_{1,out}z(w_{11}x+w_{12}y)+w_{2,out}z(w_{21}x+w_{22}y)$         | $\\dot{x_{11}}+\\dot{x_{12}}$ | $w_{1,out}w_{11}z'(w_{11}x+w_{12}y)+w_{2,out}w_{21}z'(w_{21}x+w_{22}y)$     | $w_{1,out}w_{12}z'(w_{11}x+w_{12}y)+w_{2,out}w_{22}z'(w_{21}x+w_{22}y)$     |\n"
   ]
  },
  {
   "cell_type": "code",
   "execution_count": null,
   "metadata": {},
   "outputs": [],
   "source": []
  }
 ],
 "metadata": {
  "kernelspec": {
   "display_name": "Python 3",
   "language": "python",
   "name": "python3"
  },
  "language_info": {
   "codemirror_mode": {
    "name": "ipython",
    "version": 3
   },
   "file_extension": ".py",
   "mimetype": "text/x-python",
   "name": "python",
   "nbconvert_exporter": "python",
   "pygments_lexer": "ipython3",
   "version": "3.8.3"
  }
 },
 "nbformat": 4,
 "nbformat_minor": 4
}
